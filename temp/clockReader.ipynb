{
 "cells": [
  {
   "cell_type": "code",
   "execution_count": 5,
   "metadata": {},
   "outputs": [
    {
     "name": "stdout",
     "output_type": "stream",
     "text": [
      "Requirement already satisfied: numpy in d:\\vscodefiles\\python\\quiz\\env\\lib\\site-packages (2.0.0)\n",
      "Requirement already satisfied: opencv-python in d:\\vscodefiles\\python\\quiz\\env\\lib\\site-packages (4.10.0.84)\n",
      "Note: you may need to restart the kernel to use updated packages.\n"
     ]
    },
    {
     "name": "stderr",
     "output_type": "stream",
     "text": [
      "WARNING: You are using pip version 21.2.4; however, version 24.0 is available.\n",
      "You should consider upgrading via the 'd:\\VscodeFiles\\PYTHON\\QUIZ\\env\\Scripts\\python.exe -m pip install --upgrade pip' command.\n"
     ]
    }
   ],
   "source": [
    "%pip install numpy opencv-python\n"
   ]
  },
  {
   "cell_type": "code",
   "execution_count": 48,
   "metadata": {},
   "outputs": [
    {
     "data": {
      "image/png": "[encoded data removed]",
      "text/plain": [
       "<Figure size 600x600 with 1 Axes>"
      ]
     },
     "metadata": {},
     "output_type": "display_data"
    },
    {
     "name": "stdout",
     "output_type": "stream",
     "text": [
      "Horário detectado: 09:44\n"
     ]
    }
   ],
   "source": [
    "import cv2\n",
    "import numpy as np\n",
    "import matplotlib.pyplot as plt\n",
    "\n",
    "def line_length(x1, y1, x2, y2):\n",
    "    return np.sqrt((x2 - x1) ** 2 + (y2 - y1) ** 2)\n",
    "\n",
    "def calculate_angle(x1, y1, x2, y2, cx, cy):\n",
    "    angle_rad = np.arctan2(y2 - cy, x2 - cx) - np.arctan2(y1 - cy, x1 - cx)\n",
    "    angle_deg = np.degrees(angle_rad)\n",
    "    angle_deg = (angle_deg + 360) % 360\n",
    "    return angle_deg\n",
    "\n",
    "image_path = \"clock_1.png\"\n",
    "\n",
    "imagem = cv2.imread(image_path, cv2.IMREAD_COLOR)\n",
    "\n",
    "cinza = cv2.cvtColor(imagem, cv2.COLOR_BGR2GRAY)\n",
    "\n",
    "suave = cv2.medianBlur(cinza, 5)\n",
    "\n",
    "circulos = cv2.HoughCircles(\n",
    "    suave,\n",
    "    cv2.HOUGH_GRADIENT,\n",
    "    dp=1.2,\n",
    "    minDist=40,\n",
    "    param1=50,\n",
    "    param2=30,\n",
    "    minRadius=15,\n",
    "    maxRadius=60,\n",
    ")\n",
    "\n",
    "vertices = []\n",
    "\n",
    "if circulos is not None:\n",
    "    circulos = np.round(circulos[0, :]).astype(\"int\")\n",
    "\n",
    "    x, y, raio = circulos[0]\n",
    "\n",
    "    mask = np.zeros_like(cinza)\n",
    "    cv2.circle(mask, (x, y), int(raio * 0.70), 255, -1)\n",
    "\n",
    "    masked_image = cv2.bitwise_and(imagem, imagem, mask=mask)\n",
    "\n",
    "    x1, y1 = x - int(raio * 0.80), y - int(raio * 0.80)\n",
    "    x2, y2 = x + int(raio * 0.80), y + int(raio * 0.80)\n",
    "    cropped_image = masked_image[y1:y2, x1:x2]\n",
    "\n",
    "    scale_factor = 4\n",
    "    width = int(imagem.shape[1] * scale_factor)\n",
    "    height = int(imagem.shape[0] * scale_factor)\n",
    "    high_quality_image = cv2.resize(imagem, (width, height), interpolation=cv2.INTER_CUBIC)\n",
    "    high_quality_gray = cv2.cvtColor(high_quality_image, cv2.COLOR_BGR2GRAY)\n",
    "    high_quality_mask = cv2.resize(mask, (width, height), interpolation=cv2.INTER_NEAREST)\n",
    "    high_quality_masked_image = cv2.bitwise_and(high_quality_image, high_quality_image, mask=high_quality_mask)\n",
    "\n",
    "    gray = cv2.cvtColor(high_quality_masked_image, cv2.COLOR_BGR2GRAY)\n",
    "\n",
    "    blurred = cv2.GaussianBlur(gray, (5, 5), 0)\n",
    "\n",
    "    edges = cv2.Canny(blurred, 50, 150, apertureSize=3)  # Ajustado para melhor detecção\n",
    "\n",
    "    lines = cv2.HoughLinesP(\n",
    "        edges, 1, np.pi / 180, threshold=50, minLineLength=50, maxLineGap=10  # Ajustado threshold\n",
    "    )\n",
    "\n",
    "    line_image = np.copy(high_quality_masked_image)\n",
    "\n",
    "    longest_line_minute = None\n",
    "    max_length_minute = 0\n",
    "    longest_line_hour = None\n",
    "    max_length_hour = 0\n",
    "\n",
    "    if lines is not None:\n",
    "        for line in lines:\n",
    "            x1, y1, x2, y2 = line[0]\n",
    "            length = line_length(x1, y1, x2, y2)\n",
    "            thickness = cv2.norm(gray[y1:y2, x1:x2], cv2.NORM_L2) / length\n",
    "\n",
    "            if thickness > 5:  # Ajustado limite de espessura\n",
    "                if length > max_length_hour:\n",
    "                    max_length_hour = length\n",
    "                    longest_line_hour = (x1, y1, x2, y2)\n",
    "            else:\n",
    "                if length > max_length_minute:\n",
    "                    max_length_minute = length\n",
    "                    longest_line_minute = (x1, y1, x2, y2)\n",
    "\n",
    "        if longest_line_minute is not None:\n",
    "            x1, y1, x2, y2 = longest_line_minute\n",
    "            length = np.sqrt((x2 - x1) ** 2 + (y2 - y1) ** 2)\n",
    "            direction_vector = ((x2 - x1) / length, (y2 - y1) / length)\n",
    "            new_length = length * 1.8\n",
    "            x1_new = int(x1 - direction_vector[0] * (new_length - length))\n",
    "            y1_new = int(y1 - direction_vector[1] * (new_length - length))\n",
    "            x2_new = int(x2 + direction_vector[0] * (new_length - length))\n",
    "            y2_new = int(y2 + direction_vector[1] * (new_length - length))\n",
    "            cv2.line(line_image, (x1_new, y1_new), (x2_new, y2_new), (0, 255, 0), 5)\n",
    "            vertices.append((x1, y1))\n",
    "            vertices.append((x2, y2))\n",
    "\n",
    "        if longest_line_hour is not None:\n",
    "            x1, y1, x2, y2 = longest_line_hour\n",
    "            length = np.sqrt((x2 - x1) ** 2 + (y2 - y1) ** 2)\n",
    "            direction_vector = ((x2 - x1) / length, (y2 - y1) / length)\n",
    "            new_length = length * 1.8\n",
    "            x1_new = int(x1 - direction_vector[0] * (new_length - length))\n",
    "            y1_new = int(y1 - direction_vector[1] * (new_length - length))\n",
    "            x2_new = int(x2 + direction_vector[0] * (new_length - length))\n",
    "            y2_new = int(y2 + direction_vector[1] * (new_length - length))\n",
    "            cv2.line(line_image, (x1_new, y1_new), (x2_new, y2_new), (255, 0, 0), 5)\n",
    "            vertices.append((x1, y1))\n",
    "            vertices.append((x2, y2))\n",
    "\n",
    "        def adjust_angle(angle):\n",
    "            adjusted_angle = (angle - 90) % 360\n",
    "            return adjusted_angle if adjusted_angle >= 0 else adjusted_angle + 360\n",
    "\n",
    "        hour_angle = calculate_angle(*longest_line_hour, x, y) if longest_line_hour else 0\n",
    "        minute_angle = calculate_angle(*longest_line_minute, x, y) if longest_line_minute else 0\n",
    "\n",
    "        adjusted_hour_angle = adjust_angle(hour_angle)\n",
    "        adjusted_minute_angle = adjust_angle(minute_angle)\n",
    "\n",
    "        hour = int(adjusted_hour_angle / 30)\n",
    "        minute = int(adjusted_minute_angle / 6)\n",
    "\n",
    "        # print(f\"Ângulo da haste verde (hora): {adjusted_hour_angle:.4f} graus\")\n",
    "        # print(f\"Ângulo da haste azul (minuto): {adjusted_minute_angle:.4f} graus\")\n",
    "\n",
    "    plt.figure(figsize=(6, 6))\n",
    "    plt.imshow(cv2.cvtColor(line_image, cv2.COLOR_BGR2RGB))\n",
    "    plt.title(\"Ponteiros Detectados\")\n",
    "    plt.axis('off')\n",
    "    plt.show()\n",
    "    print(f\"Horário detectado: {hour:02d}:{minute:02d}\")\n",
    "\n",
    "else:\n",
    "    print(\"Nenhum círculo detectado\")\n"
   ]
  }
 ],
 "metadata": {
  "kernelspec": {
   "display_name": "env",
   "language": "python",
   "name": "python3"
  },
  "language_info": {
   "codemirror_mode": {
    "name": "ipython",
    "version": 3
   },
   "file_extension": ".py",
   "mimetype": "text/x-python",
   "name": "python",
   "nbconvert_exporter": "python",
   "pygments_lexer": "ipython3",
   "version": "3.10.2"
  }
 },
 "nbformat": 4,
 "nbformat_minor": 2
}
